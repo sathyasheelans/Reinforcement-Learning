{
 "cells": [
  {
   "cell_type": "code",
   "execution_count": 1,
   "metadata": {},
   "outputs": [],
   "source": [
    "\n",
    "import numpy as np\n",
    "import pandas as pd\n",
    "import matplotlib.pyplot as plt"
   ]
  },
  {
   "cell_type": "code",
   "execution_count": 2,
   "metadata": {},
   "outputs": [],
   "source": [
    "\n",
    "def new_Q(rows = 4, cols = 12):\n",
    "    Q_tab = np.zeros((4, cols * rows))\n",
    "    act_dict =  {\"UP\": Q_tab[0, :],\"LEFT\": Q_tab[1, :], \"RIGHT\": Q_tab[2, :], \"DOWN\": Q_tab[3, :]}\n",
    "    \n",
    "    return Q_tab"
   ]
  },
  {
   "cell_type": "code",
   "execution_count": 3,
   "metadata": {},
   "outputs": [],
   "source": [
    "def e_greedy(state, Q_tab, epsilon = 0.1):\n",
    "    \n",
    "    decision  = np.random.random()\n",
    "    \n",
    "    if(decision < epsilon):\n",
    "        action = np.random.choice(4) # UP = 0, LEFT = 1, RIGHT = 2, DOWN = 3\n",
    "    else:\n",
    "        action = np.argmax(Q_tab[:, state]) # Choose the action with largest Q-value (state value)\n",
    "        \n",
    "    return action"
   ]
  },
  {
   "cell_type": "code",
   "execution_count": 4,
   "metadata": {},
   "outputs": [],
   "source": [
    "def agent_move(agent, action):\n",
    "\n",
    "    (Position_X , Position_Y) = agent\n",
    "    if ((action == 0) and Position_X > 0):\n",
    "        Position_X = Position_X - 1\n",
    "    if((action == 1) and (Position_Y > 0)):\n",
    "        Position_Y = Position_Y - 1\n",
    "    if((action == 2) and (Position_Y < 11)):\n",
    "        Position_Y = Position_Y + 1\n",
    "    if((action) == 3 and (Position_X < 3)):\n",
    "        Position_X = Position_X + 1\n",
    "    agent = (Position_X, Position_Y)\n",
    "    \n",
    "    return agent"
   ]
  },
  {
   "cell_type": "code",
   "execution_count": 5,
   "metadata": {},
   "outputs": [],
   "source": [
    "def state_info(agent, Q_tab):\n",
    "    \n",
    "    (Position_X , Position_Y) = agent\n",
    "    state = 12 * Position_X + Position_Y\n",
    "    state_action = Q_tab[:, int(state)]\n",
    "    max_state_val = np.amax(state_action) \n",
    "    return state, max_state_val\n",
    "\n",
    "def reward_info(state):\n",
    "\n",
    "    game_end = False\n",
    "    reward = -1\n",
    "    if(state == 47):\n",
    "        game_end = True\n",
    "        reward = 10\n",
    "    if(state >= 37 and state <= 46):\n",
    "        game_end = True\n",
    "        reward = -100\n",
    "\n",
    "    return reward, game_end\n",
    "\n",
    "def updateq(Q_tab, state, action, reward, next_state_value, gamma_discount = 0.9, alpha = 0.5):\n",
    "\n",
    "    update_q_value = Q_tab[action, state] + alpha * (reward + (gamma_discount * next_state_value) - Q_tab[action, state])\n",
    "    Q_tab[action, state] = update_q_value\n",
    "\n",
    "    return Q_tab"
   ]
  },
  {
   "cell_type": "code",
   "execution_count": 6,
   "metadata": {},
   "outputs": [],
   "source": [
    "def previous_env(agent, env):\n",
    "\n",
    "    (Position_Y, Position_X) = agent\n",
    "    env[Position_Y][Position_X] = 1\n",
    "    return env\n",
    "    \n",
    "def get_env_info(Q_tab, action):\n",
    "\n",
    "    env = Q_tab[action, :].reshape((4, 12))\n",
    "    print(env)\n",
    "    \n",
    "def plot_fucntion(reward_cache_qlearning, reward_cache_SARSA):\n",
    "    cum_rewards_q = []\n",
    "    rewards_mean = np.array(reward_cache_qlearning).mean()\n",
    "    rewards_std = np.array(reward_cache_qlearning).std()\n",
    "    count = 0 \n",
    "    cur_reward = 0 \n",
    "    for cache in reward_cache_qlearning:\n",
    "        count = count + 1\n",
    "        cur_reward += cache\n",
    "        if(count == 10):\n",
    "\n",
    "            normalized_reward = (cur_reward - rewards_mean)/rewards_std\n",
    "            cum_rewards_q.append(normalized_reward)\n",
    "            cur_reward = 0\n",
    "            count = 0\n",
    "            \n",
    "    cum_rewards_SARSA = []\n",
    "    rewards_mean = np.array(reward_cache_SARSA).mean()\n",
    "    rewards_std = np.array(reward_cache_SARSA).std()\n",
    "    count = 0 \n",
    "    cur_reward = 0 \n",
    "    for cache in reward_cache_SARSA:\n",
    "        count = count + 1\n",
    "        cur_reward += cache\n",
    "        if(count == 10):\n",
    "\n",
    "            normalized_reward = (cur_reward - rewards_mean)/rewards_std\n",
    "            cum_rewards_SARSA.append(normalized_reward)\n",
    "            cur_reward = 0\n",
    "            count = 0      \n",
    "\n",
    "    plt.plot(cum_rewards_q, label = \"q_learning\")\n",
    "    plt.plot(cum_rewards_SARSA, label = \"SARSA\")\n",
    "    plt.ylabel('Cumulative Rewards')\n",
    "    plt.xlabel('Batches of Episodes (sample size 10) ')\n",
    "    plt.title(\"Q-Learning/SARSA Convergence of Cumulative Reward\")\n",
    "    plt.legend(loc='lower right', ncol=2, mode=\"expand\", borderaxespad=0.)\n",
    "    plt.grid(color = 'green', linestyle = '--', linewidth = 0.5)\n",
    "    plt.show()"
   ]
  },
  {
   "cell_type": "code",
   "execution_count": 7,
   "metadata": {},
   "outputs": [],
   "source": [
    "\n",
    "def qlearning(num_episodes = 500, gamma_discount = 0.9, alpha = 0.5, epsilon = 0.1):\n",
    "\n",
    "    reward_cache = list()\n",
    "    step_cache = list()\n",
    "    Q_tab = new_Q()\n",
    "    agent = (3, 0)\n",
    "\n",
    "    for episode in range(0, num_episodes):\n",
    "        env = np.zeros((4, 12))\n",
    "        env = previous_env(agent, env)\n",
    "        agent = (3, 0)\n",
    "        game_end = False\n",
    "        reward_cum = 0 \n",
    "        step_cum = 0 \n",
    "        while(game_end == False):\n",
    "\n",
    "            state, _ = state_info(agent, Q_tab)\n",
    "            action = e_greedy(state, Q_tab)\n",
    "            agent = agent_move(agent, action)\n",
    "            step_cum += 1\n",
    "            env = previous_env(agent, env)\n",
    "            next_state, max_next_state_value = state_info(agent, Q_tab)\n",
    "            reward, game_end = reward_info(next_state)\n",
    "            reward_cum += reward \n",
    "            Q_tab = updateq(Q_tab, state, action, reward, max_next_state_value, gamma_discount, alpha)\n",
    "            state = next_state\n",
    "        reward_cache.append(reward_cum)\n",
    "        if(episode > 498):\n",
    "            print(\"Agent trained with Q-learning after 500 iterations\")\n",
    "            print(env) # display the last 2 path agent takes \n",
    "        step_cache.append(step_cum)\n",
    "    return Q_tab, reward_cache, step_cache\n"
   ]
  },
  {
   "cell_type": "code",
   "execution_count": 8,
   "metadata": {},
   "outputs": [],
   "source": [
    "def sarsa(num_episodes = 500, gamma_discount = 0.9, alpha = 0.5, epsilon = 0.1):\n",
    "\n",
    "    Q_tab = new_Q()\n",
    "    step_cache = list()\n",
    "    reward_cache = list()\n",
    "    for episode in range(0, num_episodes):\n",
    "        agent = (3, 0) # starting from left down corner\n",
    "        game_end = False\n",
    "        reward_cum = 0 # cumulative reward of the episode\n",
    "        step_cum = 0 # keeps number of iterations untill the end of the game\n",
    "        env = np.zeros((4, 12))\n",
    "        env = previous_env(agent, env)\n",
    "        state, _ = state_info(agent, Q_tab)\n",
    "        action = e_greedy(state, Q_tab)\n",
    "        while(game_end == False):\n",
    "            agent = agent_move(agent, action)\n",
    "            env = previous_env(agent, env)\n",
    "            step_cum += 1\n",
    "            next_state, _ = state_info(agent, Q_tab)\n",
    "            reward, game_end = reward_info(next_state)\n",
    "            reward_cum += reward \n",
    "            next_action = e_greedy(next_state, Q_tab)\n",
    "            next_state_value = Q_tab[next_action][next_state] # differs from q-learning uses the next action determined by policy\n",
    "            Q_tab = updateq(Q_tab, state, action, reward, next_state_value, gamma_discount, alpha)\n",
    "            # update the state and action\n",
    "            state = next_state\n",
    "            action = next_action # differs q_learning both state and action must updated\n",
    "        reward_cache.append(reward_cum)\n",
    "        step_cache.append(step_cum)\n",
    "        if(episode > 498):\n",
    "            print(\"Agent trained with SARSA after 500 iterations\")\n",
    "            print(env) # display the last 2 path agent takes \n",
    "    return Q_tab, reward_cache, step_cache\n"
   ]
  },
  {
   "cell_type": "code",
   "execution_count": 9,
   "metadata": {},
   "outputs": [
    {
     "name": "stdout",
     "output_type": "stream",
     "text": [
      "Agent trained with SARSA after 500 iterations\n",
      "[[1. 1. 1. 1. 1. 1. 0. 0. 0. 1. 1. 0.]\n",
      " [1. 0. 0. 0. 0. 1. 1. 1. 1. 1. 1. 1.]\n",
      " [1. 0. 0. 0. 0. 0. 0. 0. 0. 0. 0. 1.]\n",
      " [1. 0. 0. 0. 0. 0. 0. 0. 0. 0. 0. 1.]]\n",
      "Agent trained with Q-learning after 500 iterations\n",
      "[[0. 0. 0. 0. 0. 0. 0. 0. 0. 0. 0. 0.]\n",
      " [0. 0. 0. 0. 0. 0. 0. 0. 0. 0. 0. 0.]\n",
      " [1. 1. 1. 1. 1. 1. 1. 1. 0. 0. 0. 0.]\n",
      " [0. 0. 0. 0. 0. 0. 0. 1. 0. 0. 0. 1.]]\n"
     ]
    },
    {
     "data": {
      "image/png": "[encoded data removed]",
      "text/plain": [
       "<Figure size 432x288 with 1 Axes>"
      ]
     },
     "metadata": {
      "needs_background": "light"
     },
     "output_type": "display_data"
    }
   ],
   "source": [
    "def main():\n",
    "\n",
    "    Q_tab_SARSA, reward_cache_SARSA, step_cache_SARSA = sarsa()\n",
    "    Q_tab_qlearning, reward_cache_qlearning, step_cache_qlearning = qlearning()\n",
    "    plot_fucntion(reward_cache_qlearning,reward_cache_SARSA)\n",
    "\n",
    "    \n",
    "if __name__ == \"__main__\":\n",
    "    # call main function to execute grid world\n",
    "    main()"
   ]
  }
 ],
 "metadata": {
  "kernelspec": {
   "display_name": "Python 3.9.12 ('myenv')",
   "language": "python",
   "name": "python3"
  },
  "language_info": {
   "codemirror_mode": {
    "name": "ipython",
    "version": 3
   },
   "file_extension": ".py",
   "mimetype": "text/x-python",
   "name": "python",
   "nbconvert_exporter": "python",
   "pygments_lexer": "ipython3",
   "version": "3.9.12"
  },
  "orig_nbformat": 4,
  "vscode": {
   "interpreter": {
    "hash": "97a112ec4ec2ede50ecc1e017b5c02b38006e569376b9db7206a831f366c4753"
   }
  }
 },
 "nbformat": 4,
 "nbformat_minor": 2
}
