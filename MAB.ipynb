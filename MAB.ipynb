
import datetime as dt
import pandas as pd
import numpy as np
import matplotlib
import matplotlib.pyplot as plt
from matplotlib import cm
from sklearn import preprocessing


def greedy():
    k = 10
    T = 1000
    Qt=np.zeros(k)
    N=np.zeros(k)
    Reward=np.zeros(k)
    for i in range(T):
        Action=np.argmax(Qt)
        mu=np.random.normal(0,1)
        Reward[Action]=np.random.normal(mu,1)
        N[Action]=N[Action]+1
        Qt[Action]=Qt[Action]+(Reward[Action]-Qt[Action])

    return Qt,Reward

def main():
    Action_value,Reward=greedy()
    plt.figure("Greedy")
    #plt.suptitle("Time plots last 50 data packets")
    #plt.subplot(2, 2, 1)
    #plt.title("PTP Timestamp vs GVPM System Time")
    print(len(Reward))
   # plt.scatter(Reward, np.arange(1,1000+1))


if __name__ == '__main__':
    main()