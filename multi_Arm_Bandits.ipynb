{
 "cells": [
  {
   "cell_type": "markdown",
   "metadata": {},
   "source": [
    "There are  4 potential algorithms for balancing exploration and exploitation in the stochastic multi-armed bandit problem: \n",
    "\n",
    "1) Explore first greedy (it explores for the  first N time steps, and then exploits)\n",
    "2) Epsilon greedy \n",
    "3) Upper COnfidence Bound (UCB)\n",
    "4) Gradient bandit\n",
    "We are going to compare these algorithms as follows.\n",
    "\n",
    "Consider a bandit problem with 10 arms, each having an underlying normally distributed reward mu ~ N(mu; 1). For your simulations, draw the mu randomly from a normal distribution with mean 0 and variance 1.\n",
    "\n",
    "As the measure of performance, we are interested in the (pseudo-)regret of the algorithm over a time horizon T = 1000. Note that in order to obtain an accurate estimate of the regret, we will run the algorithm several times, and then average the regret over those runs. \n",
    "\n",
    "*Performance vs. parameter plots*\n",
    "\n",
    "As part of verification we will generate four plots, one per-algorithm, will have the algorithm's regret on the y-axis, and the algorithm's parameter on the x-axis: \n",
    "1) N for explore first greedy\n",
    "2) e for Epsilon greedy\n",
    "3) c for UCB\n",
    "4) alpha for gradient bandit\n"
   ]
  },
  {
   "cell_type": "code",
   "execution_count": 149,
   "metadata": {},
   "outputs": [],
   "source": [
    "\n",
    "import datetime as dt\n",
    "import pandas as pd\n",
    "import numpy as np\n",
    "import matplotlib\n",
    "import matplotlib.pyplot as plt\n",
    "from matplotlib import cm\n",
    "from sklearn import preprocessing\n",
    "from statistics import mean\n",
    "from audioop import avg\n",
    "\n"
   ]
  },
  {
   "cell_type": "markdown",
   "metadata": {},
   "source": [
    "Greedy Algorithm for Multi Arm Bandit problem"
   ]
  },
  {
   "cell_type": "code",
   "execution_count": 145,
   "metadata": {},
   "outputs": [],
   "source": [
    "\n",
    "def greedy(arms, Time_Horizon, E_parameter):\n",
    "\n",
    "    Qt=np.zeros(arms) #Action value initialization\n",
    "    N=np.zeros(arms) #Arm pull count initialization\n",
    "    Reward=np.zeros(arms) #Rewards initialization\n",
    "    Regret_arr=np.zeros(Time_Horizon) #Regret array inilialization\n",
    "    Sum_rewards=0\n",
    "    Regret=0 #Regret initialization\n",
    "    Reward= np.random.normal(np.random.normal(0,1),1, arms)\n",
    "    Best_Reward=max(Reward)\n",
    "     #Get the max reward\n",
    "    #print(Max_reward)\n",
    "    i=0\n",
    "    for i in range(E_parameter*arms):\n",
    "        for arm in range(arms):\n",
    "            Regret_arr[i]=Time_Horizon*max(Reward)-Sum_rewards#Get Psuedo regret at every time step\n",
    "            Reward[arm]=np.random.normal(np.random.normal(0,1),1) #Pull all 10 arms and store the rewards of each arms\n",
    "            Sum_rewards=Sum_rewards+Reward[arm]\n",
    "            Qt=Reward #Action value updation\n",
    "        N=N+1\n",
    "            #Regret[i]=i*max(mu)-Sum_rewards[i]\n",
    "\n",
    "    for i in range(Time_Horizon-E_parameter*arms):\n",
    "\n",
    "        Action=np.argmax(Qt) #Exploiting the policy and choosing the arm with max reward\n",
    "        Reward[Action]=np.random.normal(np.random.normal(0,1),1)\n",
    "        Current_Reward=Reward[Action] #Get the reward for the particular action\n",
    "        Sum_rewards=Sum_rewards+Current_Reward #sum of total rewards\n",
    "        N[Action]=N[Action]+1   #Number of times the Arm was pulled\n",
    "        Qt[Action]=Qt[Action]+(Current_Reward-Qt[Action])*(1/N[Action]) #Action value updation\n",
    "        Regret_arr[i]=Time_Horizon*Best_Reward-Sum_rewards#Get Psuedo regret at every time step\n",
    "    #Regret=Time_Horizon*Best_Reward-Sum_rewards\n",
    "    Regret=np.average(Regret_arr)\n",
    "    return Regret\n",
    "\n"
   ]
  },
  {
   "cell_type": "markdown",
   "metadata": {},
   "source": [
    "Epsilon Greedy algorithm for Multi Armed Bandits"
   ]
  },
  {
   "cell_type": "code",
   "execution_count": 151,
   "metadata": {},
   "outputs": [],
   "source": [
    "\n",
    "def epsilon_greedy(arms, Time_Horizon, eps):\n",
    "    Reward= np.random.normal(np.random.normal(0,1),1, arms) #Rewards initialization\n",
    "    Best_Reward=max(Reward)\n",
    "    Qt=Reward #Action value initialization\n",
    "    Regret_arr=np.zeros(Time_Horizon) #Regret array inilialization\n",
    "    N=np.zeros(arms) #Arm pull count initialization\n",
    "    N=N+1\n",
    "    Sum_rewards=sum(Reward) #Rewards sum initialization\n",
    "    Regret=0 #Regret initialization\n",
    "    \n",
    "    i=0\n",
    "    for i in range(Time_Horizon):\n",
    "\n",
    "        probability = np.random.random()\n",
    "\n",
    "        if probability<=1-eps:\n",
    "            \n",
    "            Action=np.argmax(Qt) #Exploiting the policy and choosing the arm with max reward\n",
    "\n",
    "        else:\n",
    "            Action=np.random.choice(arms) #Exploring the policy and choosing random arm\n",
    "        \n",
    "        Current_Reward=Reward[Action] #Get the reward for the particular action\n",
    "        Sum_rewards=Sum_rewards+Current_Reward #sum of total rewards\n",
    "        N[Action]=N[Action]+1   #Number of times the Arm was pulled\n",
    "        Qt[Action]=Qt[Action]+(Current_Reward-Qt[Action])*(1/N[Action]) #Action value updation\n",
    "        \n",
    "    Regret=Time_Horizon*Best_Reward-Sum_rewards  \n",
    "    return Regret\n"
   ]
  },
  {
   "cell_type": "markdown",
   "metadata": {},
   "source": [
    "Upper Confidence Bound Algorithm"
   ]
  },
  {
   "cell_type": "code",
   "execution_count": 154,
   "metadata": {},
   "outputs": [],
   "source": [
    "\n",
    "def UCB(arms, Time_Horizon, c):\n",
    "    Reward= np.random.normal(np.random.normal(0,1),1, arms) #Rewards initialization\n",
    "    Best_Reward=max(Reward)\n",
    "    Qt=Reward #Action value initialization\n",
    "    Regret_arr=np.zeros(Time_Horizon) #Regret array inilialization\n",
    "    N=np.zeros(arms) #Arm pull count initialization\n",
    "    N=N+1\n",
    "    Sum_rewards=sum(Reward) #Rewards sum initialization\n",
    "    Regret=0 #Regret initialization\n",
    "    \n",
    "    i=11\n",
    "    while(i<Time_Horizon):\n",
    "\n",
    "        Action=np.argmax(Qt + c*(np.log(i)/N)**(1/2)) #Exploring the policy and choosing random arm\n",
    "        \n",
    "        Current_Reward=Reward[Action] #Get the reward for the particular action\n",
    "        Sum_rewards=Sum_rewards+Current_Reward #sum of total rewards\n",
    "        N[Action]=N[Action]+1   #Number of times the Arm was pulled\n",
    "        Qt[Action]=Qt[Action]+(Current_Reward-Qt[Action])*(1/N[Action]) #Action value updation\n",
    "        i+=1\n",
    "    Regret=Time_Horizon*Best_Reward-Sum_rewards  \n",
    "    return Regret\n"
   ]
  },
  {
   "cell_type": "code",
   "execution_count": 155,
   "metadata": {},
   "outputs": [
    {
     "data": {
      "image/png": "[encoded data removed]",
      "text/plain": [
       "<Figure size 432x288 with 1 Axes>"
      ]
     },
     "metadata": {
      "needs_background": "light"
     },
     "output_type": "display_data"
    },
    {
     "data": {
      "image/png": "[encoded data removed]",
      "text/plain": [
       "<Figure size 432x288 with 1 Axes>"
      ]
     },
     "metadata": {
      "needs_background": "light"
     },
     "output_type": "display_data"
    }
   ],
   "source": [
    "def main():\n",
    "\n",
    "    #Repeat the algorithm to get average regret over 100 times\n",
    "    Regret_greedy=np.zeros(100) #Regret initialization\n",
    "    Regret_new_greedy=np.zeros(100) #Temp Regret initialization\n",
    "    Regret_eps_greedy=np.zeros(100) #Regret initialization\n",
    "    Regret_new_eps_greedy=np.zeros(100) #Temp Regret initialization\n",
    "    Regret_ucb=np.zeros(100) #Regret initialization\n",
    "    Regret_new_ucb=np.zeros(100) #Temp Regret initialization\n",
    "    iterations=100 \n",
    "    simulations=100\n",
    "    E_parameter=np.arange(1,101) #Exploration parameter\n",
    "    eps_parameter=np.linspace(0,0.2,100) #Range of Epsillon values\n",
    "    confidence=np.linspace(0,2,100) #Range of Epsillon values\n",
    "\n",
    "    i=0\n",
    "    j=0\n",
    "    \n",
    "    #Run the simulation for 100 times for Greedy Algorithm\n",
    "    while(j<simulations):\n",
    "        while(i<iterations): \n",
    "            Regret_greedy[i]=greedy(10,1000,E_parameter[i])\n",
    "            Regret_eps_greedy[i]=UCB(10,1000,confidence[i])\n",
    "            Regret_ucb[i]=UCB(10,1000,confidence[i])\n",
    "            i+=1\n",
    "        i=0\n",
    "        Regret_new_greedy=np.add(Regret_new_greedy,Regret_greedy) #Save all the regret to take average over 100 iterations\n",
    "        Regret_new_eps_greedy=np.add(Regret_new_eps_greedy,Regret_eps_greedy) #Save all the regret to take average over 100 iterations   \n",
    "        Regret_new_ucb=np.add(Regret_new_ucb,Regret_ucb) #Save all the regret to take average over 100 iterations  \n",
    "        j+=1\n",
    "    Regret_new_greedy=Regret_new_greedy/simulations\n",
    "    Regret_new_eps_greedy=Regret_new_eps_greedy/simulations\n",
    "    Regret_new_ucb=Regret_new_ucb/simulations\n",
    "    #Regret_greedy=Regret_greedy/simulations\n",
    "\n",
    "\n",
    "    #Plots of Greedy algorithm \n",
    "    plt.figure(\"Explore first greedy\")\n",
    "    plt.title(\"Explore first greedy\")\n",
    "    plt.plot(E_parameter,Regret_new_greedy) \n",
    "    plt.xlabel(\"Parameter N\")\n",
    "    plt.ylabel(\"Regret\")\n",
    "    plt.grid(color = 'green', linestyle = '--', linewidth = 0.5)\n",
    "\n",
    "    #Plots of Epsilon Greedy algorithm \n",
    "    plt.figure(\"Epsilon greedy\")\n",
    "    plt.title(\"Epsilon greedy\")\n",
    "    plt.plot(eps_parameter,Regret_new_eps_greedy) \n",
    "    plt.xlabel(\"epsilon range\")\n",
    "    plt.ylabel(\"Regret\")\n",
    "    plt.grid(color = 'green', linestyle = '--', linewidth = 0.5)\n",
    "\n",
    "    #Plots of Upper Confidence Bound \n",
    "    plt.figure(\"UCB\")\n",
    "    plt.title(\"Upper Confidence Bound\")\n",
    "    plt.plot(confidence,Regret_new_ucb) \n",
    "    plt.xlabel(\"Confidence levels\")\n",
    "    plt.ylabel(\"Regret\")\n",
    "    plt.grid(color = 'green', linestyle = '--', linewidth = 0.5)\n",
    "\n",
    "if __name__ == '__main__':\n",
    "    main()"
   ]
  }
 ],
 "metadata": {
  "kernelspec": {
   "display_name": "Python 3.9.12 ('myenv')",
   "language": "python",
   "name": "python3"
  },
  "language_info": {
   "codemirror_mode": {
    "name": "ipython",
    "version": 3
   },
   "file_extension": ".py",
   "mimetype": "text/x-python",
   "name": "python",
   "nbconvert_exporter": "python",
   "pygments_lexer": "ipython3",
   "version": "3.9.12"
  },
  "orig_nbformat": 4,
  "vscode": {
   "interpreter": {
    "hash": "97a112ec4ec2ede50ecc1e017b5c02b38006e569376b9db7206a831f366c4753"
   }
  }
 },
 "nbformat": 4,
 "nbformat_minor": 2
}
